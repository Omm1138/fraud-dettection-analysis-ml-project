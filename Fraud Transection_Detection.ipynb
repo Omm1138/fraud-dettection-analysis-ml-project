{
 "cells": [
  {
   "cell_type": "code",
   "execution_count": 1,
   "metadata": {},
   "outputs": [],
   "source": [
    "# Importing necessary ibraries as follows : \n",
    "\n",
    "# Data Loading\n",
    "import pandas as pd\n",
    "import numpy as np\n",
    "\n",
    "# Data Preprocessing\n",
    "from sklearn.preprocessing import StandardScaler\n",
    "\n",
    "# Data Visualization\n",
    "import matplotlib.pyplot as plt\n",
    "import seaborn as sns\n",
    "\n",
    "# Data Splitting and Model Building\n",
    "from sklearn.model_selection import cross_val_score\n",
    "from sklearn.model_selection import train_test_split\n",
    "\n",
    "# Model Libraries for cassification\n",
    "from sklearn.linear_model import LogisticRegression\n",
    "from sklearn.svm import SVC\n",
    "from sklearn.tree import DecisionTreeClassifier\n",
    "from sklearn.naive_bayes import GaussianNB\n",
    "from sklearn.neighbors import KNeighborsClassifier\n",
    "\n",
    "# Model Libraries for ensemble techniques\n",
    "from sklearn.ensemble import AdaBoostClassifier\n",
    "from sklearn.ensemble import GradientBoostingClassifier\n",
    "from sklearn.ensemble import BaggingClassifier\n",
    "from sklearn.ensemble import VotingClassifier\n",
    "from sklearn.ensemble import RandomForestClassifier\n",
    "\n",
    "# Metrics\n",
    "from sklearn.metrics import accuracy_score, confusion_matrix, classification_report\n",
    "\n",
    "# Warning \n",
    "import warnings\n",
    "warnings.filterwarnings('ignore')\n"
   ]
  },
  {
   "cell_type": "code",
   "execution_count": 2,
   "metadata": {},
   "outputs": [
    {
     "data": {
      "text/html": [
       "<div>\n",
       "<style scoped>\n",
       "    .dataframe tbody tr th:only-of-type {\n",
       "        vertical-align: middle;\n",
       "    }\n",
       "\n",
       "    .dataframe tbody tr th {\n",
       "        vertical-align: top;\n",
       "    }\n",
       "\n",
       "    .dataframe thead th {\n",
       "        text-align: right;\n",
       "    }\n",
       "</style>\n",
       "<table border=\"1\" class=\"dataframe\">\n",
       "  <thead>\n",
       "    <tr style=\"text-align: right;\">\n",
       "      <th></th>\n",
       "      <th>0</th>\n",
       "      <th>1</th>\n",
       "      <th>2</th>\n",
       "      <th>3</th>\n",
       "      <th>4</th>\n",
       "    </tr>\n",
       "  </thead>\n",
       "  <tbody>\n",
       "    <tr>\n",
       "      <th>TX_AMOUNT</th>\n",
       "      <td>57.160000</td>\n",
       "      <td>81.510000</td>\n",
       "      <td>146.000000</td>\n",
       "      <td>64.490000</td>\n",
       "      <td>50.990000</td>\n",
       "    </tr>\n",
       "    <tr>\n",
       "      <th>TX_FRAUD</th>\n",
       "      <td>0.000000</td>\n",
       "      <td>0.000000</td>\n",
       "      <td>0.000000</td>\n",
       "      <td>0.000000</td>\n",
       "      <td>0.000000</td>\n",
       "    </tr>\n",
       "    <tr>\n",
       "      <th>TX_FRAUD_SCENARIO</th>\n",
       "      <td>0.000000</td>\n",
       "      <td>0.000000</td>\n",
       "      <td>0.000000</td>\n",
       "      <td>0.000000</td>\n",
       "      <td>0.000000</td>\n",
       "    </tr>\n",
       "    <tr>\n",
       "      <th>TransactionAmt_log</th>\n",
       "      <td>4.063198</td>\n",
       "      <td>4.412919</td>\n",
       "      <td>4.990433</td>\n",
       "      <td>4.181897</td>\n",
       "      <td>3.951051</td>\n",
       "    </tr>\n",
       "    <tr>\n",
       "      <th>High_TransactionAmt</th>\n",
       "      <td>0.000000</td>\n",
       "      <td>1.000000</td>\n",
       "      <td>1.000000</td>\n",
       "      <td>0.000000</td>\n",
       "      <td>0.000000</td>\n",
       "    </tr>\n",
       "  </tbody>\n",
       "</table>\n",
       "</div>"
      ],
      "text/plain": [
       "                             0          1           2          3          4\n",
       "TX_AMOUNT            57.160000  81.510000  146.000000  64.490000  50.990000\n",
       "TX_FRAUD              0.000000   0.000000    0.000000   0.000000   0.000000\n",
       "TX_FRAUD_SCENARIO     0.000000   0.000000    0.000000   0.000000   0.000000\n",
       "TransactionAmt_log    4.063198   4.412919    4.990433   4.181897   3.951051\n",
       "High_TransactionAmt   0.000000   1.000000    1.000000   0.000000   0.000000"
      ]
     },
     "metadata": {},
     "output_type": "display_data"
    }
   ],
   "source": [
    "# Importing the dataset\n",
    "\n",
    "df = pd.read_csv(r'd:\\Projects\\fraud_detection\\final_dataset.csv')\n",
    "display(df.head().T)"
   ]
  },
  {
   "cell_type": "code",
   "execution_count": 3,
   "metadata": {},
   "outputs": [
    {
     "name": "stdout",
     "output_type": "stream",
     "text": [
      "<class 'pandas.core.frame.DataFrame'>\n",
      "RangeIndex: 1754155 entries, 0 to 1754154\n",
      "Data columns (total 5 columns):\n",
      " #   Column               Dtype  \n",
      "---  ------               -----  \n",
      " 0   TX_AMOUNT            float64\n",
      " 1   TX_FRAUD             int64  \n",
      " 2   TX_FRAUD_SCENARIO    int64  \n",
      " 3   TransactionAmt_log   float64\n",
      " 4   High_TransactionAmt  int64  \n",
      "dtypes: float64(2), int64(3)\n",
      "memory usage: 66.9 MB\n"
     ]
    }
   ],
   "source": [
    "df.info()"
   ]
  },
  {
   "cell_type": "code",
   "execution_count": 4,
   "metadata": {},
   "outputs": [
    {
     "name": "stdout",
     "output_type": "stream",
     "text": [
      "(1403324, 4) (350831, 4) (1403324,) (350831,)\n"
     ]
    }
   ],
   "source": [
    "# splitting the dataset into dependent and independent variables\n",
    "\n",
    "x = df.drop('TX_FRAUD', axis=1)\n",
    "y = df['TX_FRAUD']\n",
    "\n",
    "# standardizing the data\n",
    "scaler = StandardScaler()\n",
    "x = scaler.fit_transform(x)\n",
    "\n",
    "# Splitting the dataset into training and testing set\n",
    "\n",
    "x_train, x_test, y_train, y_test = train_test_split(x, y, test_size=0.2, random_state=42)\n",
    "\n",
    "print(x_train.shape, x_test.shape, y_train.shape, y_test.shape)"
   ]
  },
  {
   "cell_type": "code",
   "execution_count": 6,
   "metadata": {},
   "outputs": [
    {
     "data": {
      "text/html": [
       "<div>\n",
       "<style scoped>\n",
       "    .dataframe tbody tr th:only-of-type {\n",
       "        vertical-align: middle;\n",
       "    }\n",
       "\n",
       "    .dataframe tbody tr th {\n",
       "        vertical-align: top;\n",
       "    }\n",
       "\n",
       "    .dataframe thead th {\n",
       "        text-align: right;\n",
       "    }\n",
       "</style>\n",
       "<table border=\"1\" class=\"dataframe\">\n",
       "  <thead>\n",
       "    <tr style=\"text-align: right;\">\n",
       "      <th></th>\n",
       "      <th>0</th>\n",
       "      <th>1</th>\n",
       "      <th>2</th>\n",
       "      <th>3</th>\n",
       "      <th>4</th>\n",
       "    </tr>\n",
       "  </thead>\n",
       "  <tbody>\n",
       "    <tr>\n",
       "      <th>TX_AMOUNT</th>\n",
       "      <td>0.083345</td>\n",
       "      <td>0.658635</td>\n",
       "      <td>2.182267</td>\n",
       "      <td>0.256523</td>\n",
       "      <td>-0.062427</td>\n",
       "    </tr>\n",
       "    <tr>\n",
       "      <th>TX_FRAUD_SCENARIO</th>\n",
       "      <td>-0.089075</td>\n",
       "      <td>-0.089075</td>\n",
       "      <td>-0.089075</td>\n",
       "      <td>-0.089075</td>\n",
       "      <td>-0.089075</td>\n",
       "    </tr>\n",
       "    <tr>\n",
       "      <th>TransactionAmt_log</th>\n",
       "      <td>0.438311</td>\n",
       "      <td>0.818042</td>\n",
       "      <td>1.445111</td>\n",
       "      <td>0.567196</td>\n",
       "      <td>0.316541</td>\n",
       "    </tr>\n",
       "    <tr>\n",
       "      <th>High_TransactionAmt</th>\n",
       "      <td>-0.577284</td>\n",
       "      <td>1.732250</td>\n",
       "      <td>1.732250</td>\n",
       "      <td>-0.577284</td>\n",
       "      <td>-0.577284</td>\n",
       "    </tr>\n",
       "  </tbody>\n",
       "</table>\n",
       "</div>"
      ],
      "text/plain": [
       "                            0         1         2         3         4\n",
       "TX_AMOUNT            0.083345  0.658635  2.182267  0.256523 -0.062427\n",
       "TX_FRAUD_SCENARIO   -0.089075 -0.089075 -0.089075 -0.089075 -0.089075\n",
       "TransactionAmt_log   0.438311  0.818042  1.445111  0.567196  0.316541\n",
       "High_TransactionAmt -0.577284  1.732250  1.732250 -0.577284 -0.577284"
      ]
     },
     "execution_count": 6,
     "metadata": {},
     "output_type": "execute_result"
    }
   ],
   "source": [
    "# Convert numpy array back to DataFrame using original column names\n",
    "pd.DataFrame(x, columns=df.drop('TX_FRAUD', axis=1).columns).head().T"
   ]
  },
  {
   "cell_type": "code",
   "execution_count": 7,
   "metadata": {},
   "outputs": [],
   "source": [
    "# model building\n",
    "\n",
    "models = { 'Logistic Regression': LogisticRegression(),\n",
    "           'SVC': SVC(),\n",
    "           'Decision Tree': DecisionTreeClassifier(),\n",
    "           'Naive Bayes': GaussianNB(),\n",
    "           'KNN': KNeighborsClassifier(),\n",
    "           'AdaBoost': AdaBoostClassifier(),\n",
    "           'Gradient Boosting': GradientBoostingClassifier(),\n",
    "           'Bagging': BaggingClassifier(),\n",
    "           'Random Forest': RandomForestClassifier()}\n",
    "\n",
    "for name, model in models.items():\n",
    "    model.fit(x_train, y_train)"
   ]
  },
  {
   "cell_type": "code",
   "execution_count": 8,
   "metadata": {},
   "outputs": [],
   "source": [
    "for name, model in models.items():\n",
    "    y_pred = model.predict(x_test)"
   ]
  },
  {
   "cell_type": "code",
   "execution_count": 9,
   "metadata": {},
   "outputs": [
    {
     "data": {
      "text/plain": [
       "(0    347970\n",
       " 1      2861\n",
       " Name: count, dtype: int64,\n",
       " TX_FRAUD\n",
       " 0    347970\n",
       " 1      2861\n",
       " Name: count, dtype: int64)"
      ]
     },
     "execution_count": 9,
     "metadata": {},
     "output_type": "execute_result"
    }
   ],
   "source": [
    "pd.Series(y_pred).value_counts(), y_test.value_counts()"
   ]
  },
  {
   "cell_type": "code",
   "execution_count": 10,
   "metadata": {},
   "outputs": [
    {
     "data": {
      "text/plain": [
       "np.float64(0.014016868270324768)"
      ]
     },
     "execution_count": 10,
     "metadata": {},
     "output_type": "execute_result"
    }
   ],
   "source": [
    "# cost function for the model\n",
    "\n",
    "def cross_entropy_loss(y, y_pred_proba):\n",
    "\treturn -np.mean(y * np.log(y_pred_proba[:, 1]) + (1 - y) * np.log(1 - y_pred_proba[:, 1]))\n",
    "\n",
    "# Get predicted probabilities\n",
    "y_pred_proba = model.predict_proba(x_test)\n",
    "\n",
    "cross_entropy_loss(y_test, y_pred_proba)"
   ]
  },
  {
   "cell_type": "code",
   "execution_count": 11,
   "metadata": {},
   "outputs": [
    {
     "name": "stdout",
     "output_type": "stream",
     "text": [
      "Accuracy score of Logistic Regression is 1.0\n",
      "Confusion Matrix of Logistic Regression is [[347970      0]\n",
      " [     0   2861]]\n",
      "Classification Report of Logistic Regression is               precision    recall  f1-score   support\n",
      "\n",
      "           0       1.00      1.00      1.00    347970\n",
      "           1       1.00      1.00      1.00      2861\n",
      "\n",
      "    accuracy                           1.00    350831\n",
      "   macro avg       1.00      1.00      1.00    350831\n",
      "weighted avg       1.00      1.00      1.00    350831\n",
      "\n",
      "------------------------------------------------------\n",
      "Accuracy score of SVC is 1.0\n",
      "Confusion Matrix of SVC is [[347970      0]\n",
      " [     0   2861]]\n",
      "Classification Report of SVC is               precision    recall  f1-score   support\n",
      "\n",
      "           0       1.00      1.00      1.00    347970\n",
      "           1       1.00      1.00      1.00      2861\n",
      "\n",
      "    accuracy                           1.00    350831\n",
      "   macro avg       1.00      1.00      1.00    350831\n",
      "weighted avg       1.00      1.00      1.00    350831\n",
      "\n",
      "------------------------------------------------------\n",
      "Accuracy score of Decision Tree is 1.0\n",
      "Confusion Matrix of Decision Tree is [[347970      0]\n",
      " [     0   2861]]\n",
      "Classification Report of Decision Tree is               precision    recall  f1-score   support\n",
      "\n",
      "           0       1.00      1.00      1.00    347970\n",
      "           1       1.00      1.00      1.00      2861\n",
      "\n",
      "    accuracy                           1.00    350831\n",
      "   macro avg       1.00      1.00      1.00    350831\n",
      "weighted avg       1.00      1.00      1.00    350831\n",
      "\n",
      "------------------------------------------------------\n",
      "Accuracy score of Naive Bayes is 1.0\n",
      "Confusion Matrix of Naive Bayes is [[347970      0]\n",
      " [     0   2861]]\n",
      "Classification Report of Naive Bayes is               precision    recall  f1-score   support\n",
      "\n",
      "           0       1.00      1.00      1.00    347970\n",
      "           1       1.00      1.00      1.00      2861\n",
      "\n",
      "    accuracy                           1.00    350831\n",
      "   macro avg       1.00      1.00      1.00    350831\n",
      "weighted avg       1.00      1.00      1.00    350831\n",
      "\n",
      "------------------------------------------------------\n",
      "Accuracy score of KNN is 1.0\n",
      "Confusion Matrix of KNN is [[347970      0]\n",
      " [     0   2861]]\n",
      "Classification Report of KNN is               precision    recall  f1-score   support\n",
      "\n",
      "           0       1.00      1.00      1.00    347970\n",
      "           1       1.00      1.00      1.00      2861\n",
      "\n",
      "    accuracy                           1.00    350831\n",
      "   macro avg       1.00      1.00      1.00    350831\n",
      "weighted avg       1.00      1.00      1.00    350831\n",
      "\n",
      "------------------------------------------------------\n",
      "Accuracy score of AdaBoost is 1.0\n",
      "Confusion Matrix of AdaBoost is [[347970      0]\n",
      " [     0   2861]]\n",
      "Classification Report of AdaBoost is               precision    recall  f1-score   support\n",
      "\n",
      "           0       1.00      1.00      1.00    347970\n",
      "           1       1.00      1.00      1.00      2861\n",
      "\n",
      "    accuracy                           1.00    350831\n",
      "   macro avg       1.00      1.00      1.00    350831\n",
      "weighted avg       1.00      1.00      1.00    350831\n",
      "\n",
      "------------------------------------------------------\n",
      "Accuracy score of Gradient Boosting is 1.0\n",
      "Confusion Matrix of Gradient Boosting is [[347970      0]\n",
      " [     0   2861]]\n",
      "Classification Report of Gradient Boosting is               precision    recall  f1-score   support\n",
      "\n",
      "           0       1.00      1.00      1.00    347970\n",
      "           1       1.00      1.00      1.00      2861\n",
      "\n",
      "    accuracy                           1.00    350831\n",
      "   macro avg       1.00      1.00      1.00    350831\n",
      "weighted avg       1.00      1.00      1.00    350831\n",
      "\n",
      "------------------------------------------------------\n",
      "Accuracy score of Bagging is 1.0\n",
      "Confusion Matrix of Bagging is [[347970      0]\n",
      " [     0   2861]]\n",
      "Classification Report of Bagging is               precision    recall  f1-score   support\n",
      "\n",
      "           0       1.00      1.00      1.00    347970\n",
      "           1       1.00      1.00      1.00      2861\n",
      "\n",
      "    accuracy                           1.00    350831\n",
      "   macro avg       1.00      1.00      1.00    350831\n",
      "weighted avg       1.00      1.00      1.00    350831\n",
      "\n",
      "------------------------------------------------------\n",
      "Accuracy score of Random Forest is 1.0\n",
      "Confusion Matrix of Random Forest is [[347970      0]\n",
      " [     0   2861]]\n",
      "Classification Report of Random Forest is               precision    recall  f1-score   support\n",
      "\n",
      "           0       1.00      1.00      1.00    347970\n",
      "           1       1.00      1.00      1.00      2861\n",
      "\n",
      "    accuracy                           1.00    350831\n",
      "   macro avg       1.00      1.00      1.00    350831\n",
      "weighted avg       1.00      1.00      1.00    350831\n",
      "\n",
      "------------------------------------------------------\n"
     ]
    }
   ],
   "source": [
    "# Model Evaluation\n",
    "\n",
    "for name, model in models.items():\n",
    "    print(f'Accuracy score of {name} is {accuracy_score(y_test, y_pred)}')\n",
    "    print(f'Confusion Matrix of {name} is {confusion_matrix(y_test, y_pred)}')\n",
    "    print(f'Classification Report of {name} is {classification_report(y_test, y_pred)}')\n",
    "    \n",
    "    print('------------------------------------------------------')"
   ]
  },
  {
   "cell_type": "code",
   "execution_count": 12,
   "metadata": {},
   "outputs": [
    {
     "name": "stdout",
     "output_type": "stream",
     "text": [
      "Accuracy score of Voting Classifier is 1.0\n",
      "Confusion Matrix of Voting Classifier is [[347970      0]\n",
      " [     0   2861]]\n",
      "Classification Report of Voting Classifier is               precision    recall  f1-score   support\n",
      "\n",
      "           0       1.00      1.00      1.00    347970\n",
      "           1       1.00      1.00      1.00      2861\n",
      "\n",
      "    accuracy                           1.00    350831\n",
      "   macro avg       1.00      1.00      1.00    350831\n",
      "weighted avg       1.00      1.00      1.00    350831\n",
      "\n"
     ]
    }
   ],
   "source": [
    "# Voting Classifier\n",
    "\n",
    "estimators = [('Logistic Regression', LogisticRegression()),\n",
    "              ('SVC', SVC()),\n",
    "              ('Decision Tree', DecisionTreeClassifier()),\n",
    "              ('Naive Bayes', GaussianNB()),\n",
    "              ('KNN', KNeighborsClassifier()),\n",
    "              ('AdaBoost', AdaBoostClassifier()),\n",
    "              ('Gradient Boosting', GradientBoostingClassifier()),\n",
    "              ('Bagging', BaggingClassifier()),\n",
    "              ('Random Forest', RandomForestClassifier())]\n",
    "\n",
    "vc = VotingClassifier(estimators=estimators)\n",
    "vc.fit(x_train, y_train)\n",
    "y_pred = vc.predict(x_test)\n",
    "print(f'Accuracy score of Voting Classifier is {accuracy_score(y_test, y_pred)}')\n",
    "print(f'Confusion Matrix of Voting Classifier is {confusion_matrix(y_test, y_pred)}')\n",
    "print(f'Classification Report of Voting Classifier is {classification_report(y_test, y_pred)}')\n"
   ]
  },
  {
   "cell_type": "code",
   "execution_count": 13,
   "metadata": {},
   "outputs": [
    {
     "name": "stdout",
     "output_type": "stream",
     "text": [
      "Logistic Regression Accuracy: 1.0\n",
      "------------------------------------------------------\n",
      "SVC Accuracy: 1.0\n",
      "------------------------------------------------------\n",
      "Decision Tree Accuracy: 1.0\n",
      "------------------------------------------------------\n",
      "Naive Bayes Accuracy: 1.0\n",
      "------------------------------------------------------\n",
      "KNN Accuracy: 1.0\n",
      "------------------------------------------------------\n",
      "AdaBoost Accuracy: 1.0\n",
      "------------------------------------------------------\n",
      "Gradient Boosting Accuracy: 1.0\n",
      "------------------------------------------------------\n",
      "Bagging Accuracy: 1.0\n",
      "------------------------------------------------------\n",
      "Random Forest Accuracy: 1.0\n",
      "------------------------------------------------------\n"
     ]
    }
   ],
   "source": [
    "# Validate with Cross-Validation: Use k-fold cross-validation to ensure the models generalize well to unseen data.\n",
    "\n",
    "from sklearn.model_selection import cross_val_score\n",
    "\n",
    "for name, model in models.items():\n",
    "    scores = cross_val_score(model, x, y, cv=5, scoring='accuracy')\n",
    "    print(f'{name} Accuracy: {scores.mean()}')\n",
    "    print('------------------------------------------------------')\n"
   ]
  },
  {
   "cell_type": "code",
   "execution_count": 16,
   "metadata": {},
   "outputs": [
    {
     "data": {
      "image/png": "[encoded data removed]",
      "text/plain": [
       "<Figure size 640x480 with 1 Axes>"
      ]
     },
     "metadata": {},
     "output_type": "display_data"
    },
    {
     "name": "stdout",
     "output_type": "stream",
     "text": [
      "AUC: 1.0\n"
     ]
    }
   ],
   "source": [
    "# ROC Curve & AUC (Area Under the Curve)\n",
    "\n",
    "from sklearn.metrics import roc_curve, roc_auc_score\n",
    "import matplotlib.pyplot as plt\n",
    "\n",
    "# Get predicted probabilities\n",
    "y_pred_proba = model.predict_proba(x_test)\n",
    "\n",
    "# Get ROC curve\n",
    "fpr, tpr, thresholds = roc_curve(y_test, y_pred_proba[:, 1])\n",
    "\n",
    "# Plot ROC curve\n",
    "plt.plot(fpr, tpr, color='orange', label='ROC')\n",
    "plt.plot([0, 1], [0, 1], color='darkblue', linestyle='--')\n",
    "plt.xlabel('False Positive Rate')\n",
    "plt.ylabel('True Positive Rate')\n",
    "plt.title('Receiver Operating Characteristic (ROC) Curve')\n",
    "plt.legend()\n",
    "plt.show()\n",
    "\n",
    "# Get AUC score\n",
    "auc = roc_auc_score(y_test, y_pred_proba[:, 1])\n",
    "print(f'AUC: {auc}')\n",
    "\n"
   ]
  },
  {
   "cell_type": "code",
   "execution_count": 17,
   "metadata": {},
   "outputs": [
    {
     "name": "stdout",
     "output_type": "stream",
     "text": [
      "0    347970\n",
      "1      2861\n",
      "Name: count, dtype: int64\n"
     ]
    }
   ],
   "source": [
    "# Saving the Model For Scikit-learn:\n",
    "\n",
    "import pickle\n",
    "\n",
    "# Save model\n",
    "with open(\"best_model.pkl\", \"wb\") as f:\n",
    "    pickle.dump(model, f)\n",
    "\n",
    "# Load model\n",
    "with open(\"best_model.pkl\", \"rb\") as f:\n",
    "    loaded_model = pickle.load(f)\n",
    "\n",
    "# Make prediction\n",
    "y_pred = loaded_model.predict(x_test)\n",
    "print(pd.Series(y_pred).value_counts())\n"
   ]
  },
  {
   "cell_type": "code",
   "execution_count": null,
   "metadata": {},
   "outputs": [],
   "source": []
  }
 ],
 "metadata": {
  "colab": {
   "authorship_tag": "ABX9TyNe0DhwpHatLjbBQk57yUr9",
   "provenance": []
  },
  "kernelspec": {
   "display_name": "ML-Dev_venv",
   "language": "python",
   "name": "python3"
  },
  "language_info": {
   "codemirror_mode": {
    "name": "ipython",
    "version": 3
   },
   "file_extension": ".py",
   "mimetype": "text/x-python",
   "name": "python",
   "nbconvert_exporter": "python",
   "pygments_lexer": "ipython3",
   "version": "3.10.16"
  }
 },
 "nbformat": 4,
 "nbformat_minor": 0
}
